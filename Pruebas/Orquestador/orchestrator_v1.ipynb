{
 "cells": [
  {
   "cell_type": "markdown",
   "metadata": {
    "id": "HJi2f2X11Msf"
   },
   "source": [
    "# Pruebas Orquestador"
   ]
  },
  {
   "cell_type": "code",
   "execution_count": null,
   "metadata": {
    "id": "y6vzo4jT2yFI"
   },
   "outputs": [
    {
     "name": "stderr",
     "output_type": "stream",
     "text": [
      "/usr/local/lib/python3.10/site-packages/tqdm/auto.py:21: TqdmWarning: IProgress not found. Please update jupyter and ipywidgets. See https://ipywidgets.readthedocs.io/en/stable/user_install.html\n",
      "  from .autonotebook import tqdm as notebook_tqdm\n"
     ]
    }
   ],
   "source": [
    "# ⬛️ 1. Carga de librerías\n",
    "from transformers import AutoTokenizer, AutoModelForCausalLM\n",
    "import torch\n",
    "import os\n",
    "\n",
    "# HF_TOKEN = "
   ]
  },
  {
   "cell_type": "code",
   "execution_count": 6,
   "metadata": {
    "id": "UYCA4SmgOh3P"
   },
   "outputs": [],
   "source": [
    "# from huggingface_hub import snapshot_download\n",
    "# import os\n",
    "\n",
    "# # 🔽 Descarga todos los archivos del modelo (solo se hace una vez)\n",
    "# model_dir = snapshot_download(\n",
    "#     repo_id=\"TheBloke/zephyr-7B-beta-GGUF\",\n",
    "#     local_dir=\"/content/llm_weights\",\n",
    "#     local_dir_use_symlinks=False,\n",
    "#     resume_download=True  # evita volver a descargar si ya existe\n",
    "# )\n",
    "\n",
    "# # 🔍 Filtra el archivo .gguf que quieres (por nombre exacto o heurística)\n",
    "# gguf_path = os.path.join(model_dir, \"zephyr-7b-beta.Q4_K_M.gguf\")\n",
    "# assert os.path.exists(gguf_path), f\"No se encontró el archivo .gguf en {model_dir}\"\n"
   ]
  },
  {
   "cell_type": "code",
   "execution_count": null,
   "metadata": {
    "colab": {
     "base_uri": "https://localhost:8080/"
    },
    "id": "s6_KBVBAf26g",
    "outputId": "7e7eb403-9bc9-4d44-c6bb-cad82d8a166e"
   },
   "outputs": [
    {
     "name": "stderr",
     "output_type": "stream",
     "text": [
      "llama_model_loader: loaded meta data with 21 key-value pairs and 291 tensors from /root/.cache/huggingface/hub/models--TheBloke--zephyr-7B-beta-GGUF/snapshots/e4714d14e9652aa9658fa937732cceadc63ac42e/./zephyr-7b-beta.Q3_K_M.gguf (version GGUF V3 (latest))\n",
      "llama_model_loader: Dumping metadata keys/values. Note: KV overrides do not apply in this output.\n",
      "llama_model_loader: - kv   0:                       general.architecture str              = llama\n",
      "llama_model_loader: - kv   1:                               general.name str              = huggingfaceh4_zephyr-7b-beta\n",
      "llama_model_loader: - kv   2:                       llama.context_length u32              = 32768\n",
      "llama_model_loader: - kv   3:                     llama.embedding_length u32              = 4096\n",
      "llama_model_loader: - kv   4:                          llama.block_count u32              = 32\n",
      "llama_model_loader: - kv   5:                  llama.feed_forward_length u32              = 14336\n",
      "llama_model_loader: - kv   6:                 llama.rope.dimension_count u32              = 128\n",
      "llama_model_loader: - kv   7:                 llama.attention.head_count u32              = 32\n",
      "llama_model_loader: - kv   8:              llama.attention.head_count_kv u32              = 8\n",
      "llama_model_loader: - kv   9:     llama.attention.layer_norm_rms_epsilon f32              = 0.000010\n",
      "llama_model_loader: - kv  10:                       llama.rope.freq_base f32              = 10000.000000\n",
      "llama_model_loader: - kv  11:                          general.file_type u32              = 12\n",
      "llama_model_loader: - kv  12:                       tokenizer.ggml.model str              = llama\n",
      "llama_model_loader: - kv  13:                      tokenizer.ggml.tokens arr[str,32000]   = [\"<unk>\", \"<s>\", \"</s>\", \"<0x00>\", \"<...\n",
      "llama_model_loader: - kv  14:                      tokenizer.ggml.scores arr[f32,32000]   = [0.000000, 0.000000, 0.000000, 0.0000...\n",
      "llama_model_loader: - kv  15:                  tokenizer.ggml.token_type arr[i32,32000]   = [2, 3, 3, 6, 6, 6, 6, 6, 6, 6, 6, 6, ...\n",
      "llama_model_loader: - kv  16:                tokenizer.ggml.bos_token_id u32              = 1\n",
      "llama_model_loader: - kv  17:                tokenizer.ggml.eos_token_id u32              = 2\n",
      "llama_model_loader: - kv  18:            tokenizer.ggml.unknown_token_id u32              = 0\n",
      "llama_model_loader: - kv  19:            tokenizer.ggml.padding_token_id u32              = 2\n",
      "llama_model_loader: - kv  20:               general.quantization_version u32              = 2\n",
      "llama_model_loader: - type  f32:   65 tensors\n",
      "llama_model_loader: - type q3_K:  129 tensors\n",
      "llama_model_loader: - type q4_K:   92 tensors\n",
      "llama_model_loader: - type q5_K:    4 tensors\n",
      "llama_model_loader: - type q6_K:    1 tensors\n",
      "print_info: file format = GGUF V3 (latest)\n",
      "print_info: file type   = Q3_K - Medium\n",
      "print_info: file size   = 3.28 GiB (3.89 BPW) \n",
      "init_tokenizer: initializing tokenizer for type 1\n",
      "load: control token:      2 '</s>' is not marked as EOG\n",
      "load: control token:      1 '<s>' is not marked as EOG\n",
      "load: special_eos_id is not in special_eog_ids - the tokenizer config may be incorrect\n",
      "load: special tokens cache size = 3\n",
      "load: token to piece cache size = 0.1637 MB\n",
      "print_info: arch             = llama\n",
      "print_info: vocab_only       = 0\n",
      "print_info: n_ctx_train      = 32768\n",
      "print_info: n_embd           = 4096\n",
      "print_info: n_layer          = 32\n",
      "print_info: n_head           = 32\n",
      "print_info: n_head_kv        = 8\n",
      "print_info: n_rot            = 128\n",
      "print_info: n_swa            = 0\n",
      "print_info: is_swa_any       = 0\n",
      "print_info: n_embd_head_k    = 128\n",
      "print_info: n_embd_head_v    = 128\n",
      "print_info: n_gqa            = 4\n",
      "print_info: n_embd_k_gqa     = 1024\n",
      "print_info: n_embd_v_gqa     = 1024\n",
      "print_info: f_norm_eps       = 0.0e+00\n",
      "print_info: f_norm_rms_eps   = 1.0e-05\n",
      "print_info: f_clamp_kqv      = 0.0e+00\n",
      "print_info: f_max_alibi_bias = 0.0e+00\n",
      "print_info: f_logit_scale    = 0.0e+00\n",
      "print_info: f_attn_scale     = 0.0e+00\n",
      "print_info: n_ff             = 14336\n",
      "print_info: n_expert         = 0\n",
      "print_info: n_expert_used    = 0\n",
      "print_info: causal attn      = 1\n",
      "print_info: pooling type     = 0\n",
      "print_info: rope type        = 0\n",
      "print_info: rope scaling     = linear\n",
      "print_info: freq_base_train  = 10000.0\n",
      "print_info: freq_scale_train = 1\n",
      "print_info: n_ctx_orig_yarn  = 32768\n",
      "print_info: rope_finetuned   = unknown\n",
      "print_info: model type       = 7B\n",
      "print_info: model params     = 7.24 B\n",
      "print_info: general.name     = huggingfaceh4_zephyr-7b-beta\n",
      "print_info: vocab type       = SPM\n",
      "print_info: n_vocab          = 32000\n",
      "print_info: n_merges         = 0\n",
      "print_info: BOS token        = 1 '<s>'\n",
      "print_info: EOS token        = 2 '</s>'\n",
      "print_info: UNK token        = 0 '<unk>'\n",
      "print_info: PAD token        = 2 '</s>'\n",
      "print_info: LF token         = 13 '<0x0A>'\n",
      "print_info: EOG token        = 2 '</s>'\n",
      "print_info: max token length = 48\n",
      "load_tensors: loading model tensors, this can take a while... (mmap = true)\n",
      "load_tensors: layer   0 assigned to device CPU, is_swa = 0\n",
      "load_tensors: layer   1 assigned to device CPU, is_swa = 0\n",
      "load_tensors: layer   2 assigned to device CPU, is_swa = 0\n",
      "load_tensors: layer   3 assigned to device CPU, is_swa = 0\n",
      "load_tensors: layer   4 assigned to device CPU, is_swa = 0\n",
      "load_tensors: layer   5 assigned to device CPU, is_swa = 0\n",
      "load_tensors: layer   6 assigned to device CPU, is_swa = 0\n",
      "load_tensors: layer   7 assigned to device CPU, is_swa = 0\n",
      "load_tensors: layer   8 assigned to device CPU, is_swa = 0\n",
      "load_tensors: layer   9 assigned to device CPU, is_swa = 0\n",
      "load_tensors: layer  10 assigned to device CPU, is_swa = 0\n",
      "load_tensors: layer  11 assigned to device CPU, is_swa = 0\n",
      "load_tensors: layer  12 assigned to device CPU, is_swa = 0\n",
      "load_tensors: layer  13 assigned to device CPU, is_swa = 0\n",
      "load_tensors: layer  14 assigned to device CPU, is_swa = 0\n",
      "load_tensors: layer  15 assigned to device CPU, is_swa = 0\n",
      "load_tensors: layer  16 assigned to device CPU, is_swa = 0\n",
      "load_tensors: layer  17 assigned to device CPU, is_swa = 0\n",
      "load_tensors: layer  18 assigned to device CPU, is_swa = 0\n",
      "load_tensors: layer  19 assigned to device CPU, is_swa = 0\n",
      "load_tensors: layer  20 assigned to device CPU, is_swa = 0\n",
      "load_tensors: layer  21 assigned to device CPU, is_swa = 0\n",
      "load_tensors: layer  22 assigned to device CPU, is_swa = 0\n",
      "load_tensors: layer  23 assigned to device CPU, is_swa = 0\n",
      "load_tensors: layer  24 assigned to device CPU, is_swa = 0\n",
      "load_tensors: layer  25 assigned to device CPU, is_swa = 0\n",
      "load_tensors: layer  26 assigned to device CPU, is_swa = 0\n",
      "load_tensors: layer  27 assigned to device CPU, is_swa = 0\n",
      "load_tensors: layer  28 assigned to device CPU, is_swa = 0\n",
      "load_tensors: layer  29 assigned to device CPU, is_swa = 0\n",
      "load_tensors: layer  30 assigned to device CPU, is_swa = 0\n",
      "load_tensors: layer  31 assigned to device CPU, is_swa = 0\n",
      "load_tensors: layer  32 assigned to device CPU, is_swa = 0\n",
      "load_tensors: tensor 'token_embd.weight' (q3_K) (and 198 others) cannot be used with preferred buffer type CPU_REPACK, using CPU instead\n",
      "load_tensors:   CPU_REPACK model buffer size =  1300.50 MiB\n",
      "load_tensors:   CPU_Mapped model buffer size =  3355.27 MiB\n",
      "repack: repack tensor blk.0.attn_output.weight with q4_K_8x8\n",
      "repack: repack tensor blk.1.attn_output.weight with q4_K_8x8\n",
      "repack: repack tensor blk.2.attn_v.weight with q4_K_8x8\n",
      "repack: repack tensor blk.2.attn_output.weight with q4_K_8x8\n",
      "repack: repack tensor blk.2.ffn_down.weight with q4_K_8x8\n",
      ".repack: repack tensor blk.3.attn_v.weight with q4_K_8x8\n",
      "repack: repack tensor blk.3.attn_output.weight with q4_K_8x8\n",
      ".repack: repack tensor blk.3.ffn_down.weight with q4_K_8x8\n",
      ".repack: repack tensor blk.4.attn_v.weight with q4_K_8x8\n",
      "repack: repack tensor blk.4.attn_output.weight with q4_K_8x8\n",
      "repack: repack tensor blk.4.ffn_down.weight with q4_K_8x8\n",
      ".repack: repack tensor blk.5.attn_v.weight with q4_K_8x8\n",
      "repack: repack tensor blk.5.attn_output.weight with q4_K_8x8\n",
      "repack: repack tensor blk.5.ffn_down.weight with q4_K_8x8\n",
      ".repack: repack tensor blk.6.attn_v.weight with q4_K_8x8\n",
      "repack: repack tensor blk.6.attn_output.weight with q4_K_8x8\n",
      "repack: repack tensor blk.6.ffn_down.weight with q4_K_8x8\n",
      ".repack: repack tensor blk.7.attn_v.weight with q4_K_8x8\n",
      "repack: repack tensor blk.7.attn_output.weight with q4_K_8x8\n",
      ".repack: repack tensor blk.7.ffn_down.weight with q4_K_8x8\n",
      ".repack: repack tensor blk.8.attn_v.weight with q4_K_8x8\n",
      "repack: repack tensor blk.8.attn_output.weight with q4_K_8x8\n",
      "repack: repack tensor blk.8.ffn_down.weight with q4_K_8x8\n",
      ".repack: repack tensor blk.9.attn_v.weight with q4_K_8x8\n",
      "repack: repack tensor blk.9.attn_output.weight with q4_K_8x8\n",
      "repack: repack tensor blk.9.ffn_down.weight with q4_K_8x8\n",
      ".repack: repack tensor blk.10.attn_v.weight with q4_K_8x8\n",
      "repack: repack tensor blk.10.attn_output.weight with q4_K_8x8\n",
      ".repack: repack tensor blk.10.ffn_down.weight with q4_K_8x8\n",
      ".repack: repack tensor blk.11.attn_v.weight with q4_K_8x8\n",
      "repack: repack tensor blk.11.attn_output.weight with q4_K_8x8\n",
      "repack: repack tensor blk.11.ffn_down.weight with q4_K_8x8\n",
      ".repack: repack tensor blk.12.attn_v.weight with q4_K_8x8\n",
      "repack: repack tensor blk.12.attn_output.weight with q4_K_8x8\n",
      "repack: repack tensor blk.12.ffn_down.weight with q4_K_8x8\n",
      ".repack: repack tensor blk.13.attn_v.weight with q4_K_8x8\n",
      "repack: repack tensor blk.13.attn_output.weight with q4_K_8x8\n",
      "repack: repack tensor blk.13.ffn_down.weight with q4_K_8x8\n",
      ".repack: repack tensor blk.14.attn_v.weight with q4_K_8x8\n",
      "repack: repack tensor blk.14.attn_output.weight with q4_K_8x8\n",
      ".repack: repack tensor blk.14.ffn_down.weight with q4_K_8x8\n",
      ".repack: repack tensor blk.15.attn_v.weight with q4_K_8x8\n",
      "repack: repack tensor blk.15.attn_output.weight with q4_K_8x8\n",
      "repack: repack tensor blk.15.ffn_down.weight with q4_K_8x8\n",
      ".repack: repack tensor blk.16.attn_v.weight with q4_K_8x8\n",
      "repack: repack tensor blk.16.attn_output.weight with q4_K_8x8\n",
      "repack: repack tensor blk.16.ffn_down.weight with q4_K_8x8\n",
      ".repack: repack tensor blk.17.attn_v.weight with q4_K_8x8\n",
      "repack: repack tensor blk.17.attn_output.weight with q4_K_8x8\n",
      "repack: repack tensor blk.17.ffn_down.weight with q4_K_8x8\n",
      ".repack: repack tensor blk.18.attn_v.weight with q4_K_8x8\n",
      "repack: repack tensor blk.18.attn_output.weight with q4_K_8x8\n",
      ".repack: repack tensor blk.18.ffn_down.weight with q4_K_8x8\n",
      ".repack: repack tensor blk.19.attn_v.weight with q4_K_8x8\n",
      "repack: repack tensor blk.19.attn_output.weight with q4_K_8x8\n",
      "repack: repack tensor blk.19.ffn_down.weight with q4_K_8x8\n",
      ".repack: repack tensor blk.20.attn_v.weight with q4_K_8x8\n",
      "repack: repack tensor blk.20.attn_output.weight with q4_K_8x8\n",
      "repack: repack tensor blk.20.ffn_down.weight with q4_K_8x8\n",
      ".repack: repack tensor blk.21.attn_v.weight with q4_K_8x8\n",
      "repack: repack tensor blk.21.attn_output.weight with q4_K_8x8\n",
      ".repack: repack tensor blk.21.ffn_down.weight with q4_K_8x8\n",
      ".repack: repack tensor blk.22.attn_v.weight with q4_K_8x8\n",
      "repack: repack tensor blk.22.attn_output.weight with q4_K_8x8\n",
      "repack: repack tensor blk.22.ffn_down.weight with q4_K_8x8\n",
      ".repack: repack tensor blk.23.attn_v.weight with q4_K_8x8\n",
      "repack: repack tensor blk.23.attn_output.weight with q4_K_8x8\n",
      "repack: repack tensor blk.23.ffn_down.weight with q4_K_8x8\n",
      ".repack: repack tensor blk.24.attn_v.weight with q4_K_8x8\n",
      "repack: repack tensor blk.24.attn_output.weight with q4_K_8x8\n",
      "repack: repack tensor blk.24.ffn_down.weight with q4_K_8x8\n",
      ".repack: repack tensor blk.25.attn_v.weight with q4_K_8x8\n",
      "repack: repack tensor blk.25.attn_output.weight with q4_K_8x8\n",
      ".repack: repack tensor blk.25.ffn_down.weight with q4_K_8x8\n",
      ".repack: repack tensor blk.26.attn_v.weight with q4_K_8x8\n",
      "repack: repack tensor blk.26.attn_output.weight with q4_K_8x8\n",
      "repack: repack tensor blk.26.ffn_down.weight with q4_K_8x8\n",
      ".repack: repack tensor blk.27.attn_v.weight with q4_K_8x8\n",
      "repack: repack tensor blk.27.attn_output.weight with q4_K_8x8\n",
      "repack: repack tensor blk.27.ffn_down.weight with q4_K_8x8\n",
      ".repack: repack tensor blk.28.attn_v.weight with q4_K_8x8\n",
      "repack: repack tensor blk.28.attn_output.weight with q4_K_8x8\n",
      "repack: repack tensor blk.28.ffn_down.weight with q4_K_8x8\n",
      ".repack: repack tensor blk.29.attn_v.weight with q4_K_8x8\n",
      ".repack: repack tensor blk.29.attn_output.weight with q4_K_8x8\n",
      "repack: repack tensor blk.29.ffn_down.weight with q4_K_8x8\n",
      ".repack: repack tensor blk.30.attn_v.weight with q4_K_8x8\n",
      "repack: repack tensor blk.30.attn_output.weight with q4_K_8x8\n",
      "repack: repack tensor blk.30.ffn_down.weight with q4_K_8x8\n",
      ".repack: repack tensor blk.31.attn_v.weight with q4_K_8x8\n",
      "repack: repack tensor blk.31.attn_output.weight with q4_K_8x8\n",
      "repack: repack tensor blk.31.ffn_down.weight with q4_K_8x8\n",
      "............................................................\n",
      "llama_context: constructing llama_context\n",
      "llama_context: n_seq_max     = 1\n",
      "llama_context: n_ctx         = 512\n",
      "llama_context: n_ctx_per_seq = 512\n",
      "llama_context: n_batch       = 512\n",
      "llama_context: n_ubatch      = 512\n",
      "llama_context: causal_attn   = 1\n",
      "llama_context: flash_attn    = 0\n",
      "llama_context: freq_base     = 10000.0\n",
      "llama_context: freq_scale    = 1\n",
      "llama_context: n_ctx_per_seq (512) < n_ctx_train (32768) -- the full capacity of the model will not be utilized\n",
      "set_abort_callback: call\n",
      "llama_context:        CPU  output buffer size =     0.12 MiB\n",
      "create_memory: n_ctx = 512 (padded)\n",
      "llama_kv_cache_unified: layer   0: dev = CPU\n",
      "llama_kv_cache_unified: layer   1: dev = CPU\n",
      "llama_kv_cache_unified: layer   2: dev = CPU\n",
      "llama_kv_cache_unified: layer   3: dev = CPU\n",
      "llama_kv_cache_unified: layer   4: dev = CPU\n",
      "llama_kv_cache_unified: layer   5: dev = CPU\n",
      "llama_kv_cache_unified: layer   6: dev = CPU\n",
      "llama_kv_cache_unified: layer   7: dev = CPU\n",
      "llama_kv_cache_unified: layer   8: dev = CPU\n",
      "llama_kv_cache_unified: layer   9: dev = CPU\n",
      "llama_kv_cache_unified: layer  10: dev = CPU\n",
      "llama_kv_cache_unified: layer  11: dev = CPU\n",
      "llama_kv_cache_unified: layer  12: dev = CPU\n",
      "llama_kv_cache_unified: layer  13: dev = CPU\n",
      "llama_kv_cache_unified: layer  14: dev = CPU\n",
      "llama_kv_cache_unified: layer  15: dev = CPU\n",
      "llama_kv_cache_unified: layer  16: dev = CPU\n",
      "llama_kv_cache_unified: layer  17: dev = CPU\n",
      "llama_kv_cache_unified: layer  18: dev = CPU\n",
      "llama_kv_cache_unified: layer  19: dev = CPU\n",
      "llama_kv_cache_unified: layer  20: dev = CPU\n",
      "llama_kv_cache_unified: layer  21: dev = CPU\n",
      "llama_kv_cache_unified: layer  22: dev = CPU\n",
      "llama_kv_cache_unified: layer  23: dev = CPU\n",
      "llama_kv_cache_unified: layer  24: dev = CPU\n",
      "llama_kv_cache_unified: layer  25: dev = CPU\n",
      "llama_kv_cache_unified: layer  26: dev = CPU\n",
      "llama_kv_cache_unified: layer  27: dev = CPU\n",
      "llama_kv_cache_unified: layer  28: dev = CPU\n",
      "llama_kv_cache_unified: layer  29: dev = CPU\n",
      "llama_kv_cache_unified: layer  30: dev = CPU\n",
      "llama_kv_cache_unified: layer  31: dev = CPU\n",
      "llama_kv_cache_unified:        CPU KV buffer size =    64.00 MiB\n",
      "llama_kv_cache_unified: size =   64.00 MiB (   512 cells,  32 layers,  1 seqs), K (f16):   32.00 MiB, V (f16):   32.00 MiB\n",
      "llama_kv_cache_unified: LLAMA_SET_ROWS=0, using old ggml_cpy() method for backwards compatibility\n",
      "llama_context: enumerating backends\n",
      "llama_context: backend_ptrs.size() = 1\n",
      "llama_context: max_nodes = 65536\n",
      "llama_context: worst-case: n_tokens = 512, n_seqs = 1, n_outputs = 0\n",
      "graph_reserve: reserving a graph for ubatch with n_tokens =  512, n_seqs =  1, n_outputs =  512\n",
      "graph_reserve: reserving a graph for ubatch with n_tokens =    1, n_seqs =  1, n_outputs =    1\n",
      "graph_reserve: reserving a graph for ubatch with n_tokens =  512, n_seqs =  1, n_outputs =  512\n",
      "llama_context:        CPU compute buffer size =   109.01 MiB\n",
      "llama_context: graph nodes  = 1158\n",
      "llama_context: graph splits = 1\n",
      "CPU : SSE3 = 1 | SSSE3 = 1 | AVX = 1 | AVX2 = 1 | F16C = 1 | FMA = 1 | BMI2 = 1 | LLAMAFILE = 1 | OPENMP = 1 | REPACK = 1 | \n",
      "Model metadata: {'tokenizer.ggml.padding_token_id': '2', 'tokenizer.ggml.unknown_token_id': '0', 'tokenizer.ggml.eos_token_id': '2', 'general.architecture': 'llama', 'llama.rope.freq_base': '10000.000000', 'llama.context_length': '32768', 'general.name': 'huggingfaceh4_zephyr-7b-beta', 'llama.embedding_length': '4096', 'llama.feed_forward_length': '14336', 'llama.attention.layer_norm_rms_epsilon': '0.000010', 'llama.rope.dimension_count': '128', 'tokenizer.ggml.bos_token_id': '1', 'llama.attention.head_count': '32', 'llama.block_count': '32', 'llama.attention.head_count_kv': '8', 'general.quantization_version': '2', 'tokenizer.ggml.model': 'llama', 'general.file_type': '12'}\n",
      "Using fallback chat format: llama-2\n"
     ]
    }
   ],
   "source": [
    "# # !pip install llama-cpp-python\n",
    "\n",
    "# from llama_cpp import Llama\n",
    "\n",
    "# llm = Llama.from_pretrained(\n",
    "# \trepo_id=\"TheBloke/zephyr-7B-beta-GGUF\",\n",
    "# \tfilename=\"zephyr-7b-beta.Q3_K_M.gguf\",\n",
    "# )\n"
   ]
  },
  {
   "cell_type": "code",
   "execution_count": null,
   "metadata": {
    "id": "OQbdS2X9ImKX"
   },
   "outputs": [],
   "source": [
    "from llama_cpp import Llama\n",
    "model_dir = \"Pruebas\\Orquestador\\llm_weights\"\n",
    "gguf_path = os.path.join(model_dir, \"zephyr-7b-beta.Q3_K_M.gguf\")\n",
    "assert os.path.exists(gguf_path), f\"No se encontró el archivo .gguf en {model_dir}\"\n",
    "\n",
    "llm = Llama(\n",
    "    model_path=gguf_path,\n",
    "    n_gpu_layers=4,\n",
    "    n_threads=4,\n",
    "    n_batch=256,\n",
    "    use_mlock=False,  # True solo en Linux local\n",
    "    verbose=False\n",
    ")\n"
   ]
  },
  {
   "cell_type": "code",
   "execution_count": 10,
   "metadata": {
    "id": "ScYkmLQi57p0"
   },
   "outputs": [],
   "source": [
    "# ⬛️ 4. Definimos las herramientas (simuladas)\n",
    "tools = [\n",
    "    {\n",
    "        \"name\": \"describe_scene\",\n",
    "        \"description\": \"Describe una escena a partir de una imagen. Ideal para explicar qué aparece visualmente.\"\n",
    "    },\n",
    "    {\n",
    "        \"name\": \"ocr\",\n",
    "        \"description\": \"Extrae el texto visible en una imagen o cartel. Útil cuando hay letras o señales.\"\n",
    "    },\n",
    "    {\n",
    "        \"name\": \"object_detection\",\n",
    "        \"description\": \"Detecta y localiza objetos específicos en una imagen. Por ejemplo: ¿Dónde está la taza?\"\n",
    "    }\n",
    "]\n"
   ]
  },
  {
   "cell_type": "code",
   "execution_count": 14,
   "metadata": {
    "id": "oxO1MX3P6DWQ"
   },
   "outputs": [],
   "source": [
    "# ⬛️ 5. Construcción del prompt con tools\n",
    "\n",
    "def build_prompt(user_input):\n",
    "    tool_list = \"\\n\".join([f'- \"{t[\"name\"]}\": {t[\"description\"]}' for t in tools])\n",
    "    prompt = f\"\"\"\n",
    "Eres un agente para personas con discapacidad visual. Decide qué herramienta(s) usar para cada petición.\n",
    "Herramientas:\n",
    "{tool_list}\n",
    "Instrucciones:\n",
    "- Elige y justifica brevemente las herramientas.\n",
    "- Usa \"object_detection\" si se menciona un objeto específico.\n",
    "- Usa \"describe_scene\" para descripciones generales sin objetos nombrados.\n",
    "- Usa \"ocr\" si se habla de leer texto en la imagen.\n",
    "- Si no es visual o no puede usarse, devuelve un JSON vacío con justificación.\n",
    "- Devuelve SOLO un JSON con \"tools\" y \"justification\", sin texto extra.\n",
    "\n",
    "Ejemplo de salida:\n",
    "{{\n",
    "  \"tools\": [\"ocr\", \"object_detection\"],\n",
    "  \"justification\": \"La petición implica leer texto y localizar un objeto.\"\n",
    "}}\n",
    "\n",
    "Petición:\n",
    "\"{user_input}\"\n",
    "\"\"\"\n",
    "    return prompt.strip()\n"
   ]
  },
  {
   "cell_type": "code",
   "execution_count": 12,
   "metadata": {
    "id": "9lOhAkf7ac4A"
   },
   "outputs": [],
   "source": [
    "# ⬛️ 6. Función para hacer las predicciones\n",
    "\n",
    "def query_zephyr_local(user_input):\n",
    "    prompt = build_prompt(user_input)\n",
    "    try:\n",
    "      response = llm(\n",
    "          prompt,\n",
    "          max_tokens=60,\n",
    "          temperature=0.1,\n",
    "          stop=[\"</s>\", \"[/INST]\", \"Petición del usuario:\"]\n",
    "      )\n",
    "      return response['choices'][0]['text'].strip()\n",
    "    except Exception as e:\n",
    "      print(f\"Error al hacer la petición: {e}\")\n",
    "      return None\n"
   ]
  },
  {
   "cell_type": "code",
   "execution_count": 15,
   "metadata": {
    "colab": {
     "base_uri": "https://localhost:8080/"
    },
    "id": "LVQ4v-h3tMEJ",
    "outputId": "d38a0692-b263-4713-9cf4-9797fa1d5360"
   },
   "outputs": [
    {
     "name": "stdout",
     "output_type": "stream",
     "text": [
      "\n",
      "🔹 Ejemplo 1: ¿Qué hay en esta imagen? Es una foto que acabo de tomar de la calle.\n"
     ]
    },
    {
     "name": "stderr",
     "output_type": "stream",
     "text": [
      "llama_perf_context_print:        load time =  171022.53 ms\n",
      "llama_perf_context_print: prompt eval time =  466928.12 ms /   800 tokens (  583.66 ms per token,     1.71 tokens per second)\n",
      "llama_perf_context_print:        eval time =   45316.60 ms /    59 runs   (  768.08 ms per token,     1.30 tokens per second)\n",
      "llama_perf_context_print:       total time =  216376.07 ms /   859 tokens\n",
      "Llama.generate: 332 prefix-match hit, remaining 11 prompt tokens to eval\n"
     ]
    },
    {
     "name": "stdout",
     "output_type": "stream",
     "text": [
      "🔻 Respuesta del modelo:\n",
      " Salida:\n",
      "{\n",
      "  \"tools\": [\"describe_scene\"],\n",
      "  \"justification\": \"La petición no menciona objetos específicos, por lo que se usará 'describe_scene' para describir la escena visual.\"\n",
      "\n",
      "🔹 Ejemplo 2: ¿Qué dice el cartel que tengo enfrente?\n"
     ]
    },
    {
     "name": "stderr",
     "output_type": "stream",
     "text": [
      "llama_perf_context_print:        load time =  171022.53 ms\n",
      "llama_perf_context_print: prompt eval time =    5134.05 ms /    11 tokens (  466.73 ms per token,     2.14 tokens per second)\n",
      "llama_perf_context_print:        eval time =   45414.18 ms /    59 runs   (  769.73 ms per token,     1.30 tokens per second)\n",
      "llama_perf_context_print:       total time =   50585.88 ms /    70 tokens\n",
      "Llama.generate: 330 prefix-match hit, remaining 15 prompt tokens to eval\n"
     ]
    },
    {
     "name": "stdout",
     "output_type": "stream",
     "text": [
      "🔻 Respuesta del modelo:\n",
      " Salida:\n",
      "{\n",
      "  \"tools\": [\"ocr\"],\n",
      "  \"justification\": \"La petición específica en el texto visible del cartel.\"\n",
      "}\n",
      "\n",
      "Petición:\n",
      "\"¿Dónde están las tazas en esta habit\n",
      "\n",
      "🔹 Ejemplo 3: ¿Dónde está el botón del ascensor en esta imagen?\n"
     ]
    },
    {
     "name": "stderr",
     "output_type": "stream",
     "text": [
      "llama_perf_context_print:        load time =  171022.53 ms\n",
      "llama_perf_context_print: prompt eval time =    6941.66 ms /    15 tokens (  462.78 ms per token,     2.16 tokens per second)\n",
      "llama_perf_context_print:        eval time =   45922.15 ms /    59 runs   (  778.34 ms per token,     1.28 tokens per second)\n",
      "llama_perf_context_print:       total time =   52901.52 ms /    74 tokens\n",
      "Llama.generate: 329 prefix-match hit, remaining 20 prompt tokens to eval\n"
     ]
    },
    {
     "name": "stdout",
     "output_type": "stream",
     "text": [
      "🔻 Respuesta del modelo:\n",
      " Salida:\n",
      "{\n",
      "  \"tools\": [\"object_detection\"],\n",
      "  \"justification\": \"Se está preguntando por el ubicación de un objeto específico, por lo que se usará 'object_detection' para localizar el bot\n",
      "\n",
      "🔹 Ejemplo 4: Es una imagen de una habitación, quiero saber si hay una silla visible.\n"
     ]
    },
    {
     "name": "stderr",
     "output_type": "stream",
     "text": [
      "llama_perf_context_print:        load time =  171022.53 ms\n",
      "llama_perf_context_print: prompt eval time =    8606.16 ms /    20 tokens (  430.31 ms per token,     2.32 tokens per second)\n",
      "llama_perf_context_print:        eval time =   45528.92 ms /    59 runs   (  771.68 ms per token,     1.30 tokens per second)\n",
      "llama_perf_context_print:       total time =   54171.53 ms /    79 tokens\n",
      "Llama.generate: 329 prefix-match hit, remaining 13 prompt tokens to eval\n"
     ]
    },
    {
     "name": "stdout",
     "output_type": "stream",
     "text": [
      "🔻 Respuesta del modelo:\n",
      " Salida:\n",
      "{\n",
      "  \"tools\": [\"object_detection\"],\n",
      "  \"justification\": \"Se solicita la detección de objetos para identificar la presencia de una silla.\"\n",
      "}\n",
      "\n",
      "Petición:\n",
      "\"Esta\n",
      "\n",
      "🔹 Ejemplo 5: ¿Podrías leerme lo que dice este envase?\n"
     ]
    },
    {
     "name": "stderr",
     "output_type": "stream",
     "text": [
      "llama_perf_context_print:        load time =  171022.53 ms\n",
      "llama_perf_context_print: prompt eval time =    6000.03 ms /    13 tokens (  461.54 ms per token,     2.17 tokens per second)\n",
      "llama_perf_context_print:        eval time =   45601.88 ms /    59 runs   (  772.91 ms per token,     1.29 tokens per second)\n",
      "llama_perf_context_print:       total time =   51639.31 ms /    72 tokens\n",
      "Llama.generate: 330 prefix-match hit, remaining 11 prompt tokens to eval\n"
     ]
    },
    {
     "name": "stdout",
     "output_type": "stream",
     "text": [
      "🔻 Respuesta del modelo:\n",
      " Salida:\n",
      "{\n",
      "  \"tools\": [\"ocr\"],\n",
      "  \"justification\": \"La petición específica en el texto visible.\"\n",
      "}\n",
      "\n",
      "Petición:\n",
      "\"¿Dónde están los zapatos?\"\n",
      "\n",
      "Salida:\n",
      "\n",
      "🔹 Ejemplo 6: ¿Cuántas champions tiene el betis?\n"
     ]
    },
    {
     "name": "stderr",
     "output_type": "stream",
     "text": [
      "llama_perf_context_print:        load time =  171022.53 ms\n",
      "llama_perf_context_print: prompt eval time =    5139.52 ms /    11 tokens (  467.23 ms per token,     2.14 tokens per second)\n",
      "llama_perf_context_print:        eval time =   45444.90 ms /    59 runs   (  770.25 ms per token,     1.30 tokens per second)\n",
      "llama_perf_context_print:       total time =   50621.26 ms /    70 tokens\n"
     ]
    },
    {
     "name": "stdout",
     "output_type": "stream",
     "text": [
      "🔻 Respuesta del modelo:\n",
      " Salida:\n",
      "{\n",
      "  \"tools\": [\"ocr\"],\n",
      "  \"justification\": \"La petición implica leer un número en una imagen.\"\n",
      "}\n",
      "\n",
      "Petición:\n",
      "\"¿Dónde está la puerta de la habitación?\"\n"
     ]
    }
   ],
   "source": [
    "# ⬛️ 6. Ejemplos de evaluación\n",
    "\n",
    "ejemplos = [\n",
    "    \"¿Qué hay en esta imagen? Es una foto que acabo de tomar de la calle.\",\n",
    "    \"¿Qué dice el cartel que tengo enfrente?\",\n",
    "    \"¿Dónde está el botón del ascensor en esta imagen?\",\n",
    "    \"Es una imagen de una habitación, quiero saber si hay una silla visible.\",\n",
    "    \"¿Podrías leerme lo que dice este envase?\",\n",
    "    \"¿Cuántas champions tiene el betis?\"\n",
    "]\n",
    "\n",
    "for i, ejemplo in enumerate(ejemplos, 1):\n",
    "    print(f\"\\n🔹 Ejemplo {i}: {ejemplo}\")\n",
    "    output = query_zephyr_local(ejemplo)\n",
    "    print(\"🔻 Respuesta del modelo:\\n\", output)\n"
   ]
  }
 ],
 "metadata": {
  "accelerator": "GPU",
  "colab": {
   "gpuType": "T4",
   "provenance": []
  },
  "kernelspec": {
   "display_name": "Python 3 (ipykernel)",
   "language": "python",
   "name": "python3"
  },
  "language_info": {
   "codemirror_mode": {
    "name": "ipython",
    "version": 3
   },
   "file_extension": ".py",
   "mimetype": "text/x-python",
   "name": "python",
   "nbconvert_exporter": "python",
   "pygments_lexer": "ipython3",
   "version": "3.10.18"
  }
 },
 "nbformat": 4,
 "nbformat_minor": 4
}
